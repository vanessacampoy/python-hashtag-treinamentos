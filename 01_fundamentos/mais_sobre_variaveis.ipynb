{
 "cells": [
  {
   "cell_type": "markdown",
   "id": "900ae5a1-3c6f-41d4-80d0-7f7ffffe3c86",
   "metadata": {},
   "source": [
    "#Aula 1: Ordem de Execução dos Programas<br>\n",
    "A ordem é de cima pra baixo"
   ]
  },
  {
   "cell_type": "code",
   "execution_count": 2,
   "id": "5fdfc0f9-091d-49d5-9e12-b09817376770",
   "metadata": {},
   "outputs": [
    {
     "name": "stdout",
     "output_type": "stream",
     "text": [
      "700\n",
      "300\n"
     ]
    }
   ],
   "source": [
    "faturamento = 1000\n",
    "custo = 300\n",
    "\n",
    "lucro = faturamento - custo\n",
    "print(lucro)\n",
    "\n",
    "faturamento = 500\n",
    "custo = 200\n",
    "\n",
    "lucro = faturamento - custo\n",
    "print(lucro)"
   ]
  },
  {
   "cell_type": "markdown",
   "id": "aa6060a4-89f6-4667-9390-fdccf5b6392f",
   "metadata": {},
   "source": [
    "Aula 2: Tipos de Variáveis<br>\n",
    "\n",
    "Uma variável é um objeto, afinal tudo é objeto em Python.<br><br>\n",
    "\n",
    "int -> inteiro<br>\n",
    "string -> texto<br>\n",
    "float -> números com casas decimais (ponto flutuante)<br>\n",
    "bool ou bolean -> true ou false<br><br>\n",
    "\n",
    "Obs. Variáveis em Python não são declaradas explicitamente, mas isso não significa que se deve ficar mudando o tempo todo\n",
    "<br><br>\n",
    "\n",
    "Obs2: Cuidado com os nomes restritos, não devem ser usados como nomes de variáveis.\n"
   ]
  },
  {
   "cell_type": "code",
   "execution_count": 7,
   "id": "20448216-a0a6-4bbd-9a76-e4a3018f0e24",
   "metadata": {},
   "outputs": [
    {
     "data": {
      "text/plain": [
       "int"
      ]
     },
     "execution_count": 7,
     "metadata": {},
     "output_type": "execute_result"
    }
   ],
   "source": [
    "faturamento = 1000\n",
    "type(faturamento)"
   ]
  },
  {
   "cell_type": "code",
   "execution_count": 8,
   "id": "9b8919af-061c-4dfd-bcbe-d37d2e81ac0a",
   "metadata": {},
   "outputs": [
    {
     "data": {
      "text/plain": [
       "float"
      ]
     },
     "execution_count": 8,
     "metadata": {},
     "output_type": "execute_result"
    }
   ],
   "source": [
    "faturamento = 1000.00\n",
    "type(faturamento)"
   ]
  },
  {
   "cell_type": "code",
   "execution_count": 9,
   "id": "7b2742bd-1778-4991-934b-36c91834c789",
   "metadata": {},
   "outputs": [
    {
     "data": {
      "text/plain": [
       "str"
      ]
     },
     "execution_count": 9,
     "metadata": {},
     "output_type": "execute_result"
    }
   ],
   "source": [
    "faturamento = '1000'\n",
    "type(faturamento)"
   ]
  },
  {
   "cell_type": "code",
   "execution_count": 11,
   "id": "578bbb5b-8a51-4058-9f4e-0815782b0922",
   "metadata": {},
   "outputs": [
    {
     "data": {
      "text/plain": [
       "bool"
      ]
     },
     "execution_count": 11,
     "metadata": {},
     "output_type": "execute_result"
    }
   ],
   "source": [
    "ganha_bonus = True\n",
    "type(ganha_bonus)"
   ]
  },
  {
   "cell_type": "markdown",
   "id": "700766b0-d89c-4345-8b5e-28cdcb5f4002",
   "metadata": {},
   "source": [
    "Aula 3: \n",
    "Misturando Tipos de Variáveis"
   ]
  },
  {
   "cell_type": "code",
   "execution_count": 13,
   "id": "6ab2388a-b37c-487d-b079-fb8d984cb8e9",
   "metadata": {},
   "outputs": [
    {
     "name": "stdout",
     "output_type": "stream",
     "text": [
      "O faturamento da loja, foi: 1000\n"
     ]
    }
   ],
   "source": [
    "faturamento = 1000\n",
    "\n",
    "print('O faturamento da loja, foi: ' + str(faturamento))"
   ]
  },
  {
   "cell_type": "markdown",
   "id": "845ad8a2-1454-4b2c-98f3-5ad0f731afe5",
   "metadata": {},
   "source": [
    "Aula 4: Comando Format"
   ]
  },
  {
   "cell_type": "code",
   "execution_count": 16,
   "id": "e4190eb5-ad37-4929-9311-241a2498c980",
   "metadata": {},
   "outputs": [
    {
     "name": "stdout",
     "output_type": "stream",
     "text": [
      "O faturamento da loja foi R$2000. O custo da loja foi R$400. O lucro total foi R$1600.\n"
     ]
    }
   ],
   "source": [
    "faturamento = 2000\n",
    "custo = 400\n",
    "lucro = faturamento - custo\n",
    "\n",
    "print('O faturamento da loja foi R${}. O custo da loja foi R${}. O lucro total foi R${}.'.format(faturamento, custo, lucro))"
   ]
  },
  {
   "cell_type": "markdown",
   "id": "8366e60e-00bb-454d-90e9-a8620db5af5d",
   "metadata": {},
   "source": [
    "Aula 5: Fstring e Mudança de Tipos de Variáveis"
   ]
  },
  {
   "cell_type": "markdown",
   "id": "b8c2523d-9c58-4819-b858-b700c637bc27",
   "metadata": {},
   "source": [
    "F-string"
   ]
  },
  {
   "cell_type": "code",
   "execution_count": 20,
   "id": "9866dc50-203d-4510-a8d7-66731bad4626",
   "metadata": {},
   "outputs": [
    {
     "name": "stdout",
     "output_type": "stream",
     "text": [
      "O faturamento foi de R$1000 e o lucro deR$145\n",
      "O faturamento foi de R$1000 e o lucro de R$145.\n"
     ]
    }
   ],
   "source": [
    "faturamento = 1000\n",
    "custo = 855\n",
    "\n",
    "lucro = faturamento - custo\n",
    "\n",
    "# com format\n",
    "print('O faturamento foi de R${} e o lucro deR${}'.format(faturamento, lucro))\n",
    "\n",
    "# com f-string\n",
    "print(f'O faturamento foi de R${faturamento} e o lucro de R${lucro}.')"
   ]
  },
  {
   "cell_type": "markdown",
   "id": "bab666e7-c234-40d7-a833-796133763c3b",
   "metadata": {},
   "source": [
    "Mudança de tipo de variável"
   ]
  },
  {
   "cell_type": "code",
   "execution_count": 24,
   "id": "c2c30651-8f65-40c9-8e1d-30cf93ed1757",
   "metadata": {},
   "outputs": [
    {
     "name": "stdin",
     "output_type": "stream",
     "text": [
      "Insira o faturamento 4523.45\n",
      "Insira o custo 478.25\n"
     ]
    },
    {
     "name": "stdout",
     "output_type": "stream",
     "text": [
      "<class 'float'>\n",
      "<class 'float'>\n",
      "4045.2\n"
     ]
    }
   ],
   "source": [
    "faturamento = float(input('Insira o faturamento'))\n",
    "custo = float(input('Insira o custo'))\n",
    "\n",
    "print(type(faturamento))\n",
    "print(type(custo))\n",
    "\n",
    "lucro = faturamento - custo\n",
    "print(lucro)\n",
    "\n",
    "# str -> muda para string\n",
    "# int -> muda para inteiro\n",
    "# float -> muda para float"
   ]
  },
  {
   "cell_type": "raw",
   "id": "bb986080-9bc1-4797-9c7f-3b70cf36e90c",
   "metadata": {},
   "source": []
  },
  {
   "cell_type": "code",
   "execution_count": null,
   "id": "8ffa1494-980e-43bc-968c-15c710ea6173",
   "metadata": {},
   "outputs": [],
   "source": []
  }
 ],
 "metadata": {
  "kernelspec": {
   "display_name": "Python 3 (ipykernel)",
   "language": "python",
   "name": "python3"
  },
  "language_info": {
   "codemirror_mode": {
    "name": "ipython",
    "version": 3
   },
   "file_extension": ".py",
   "mimetype": "text/x-python",
   "name": "python",
   "nbconvert_exporter": "python",
   "pygments_lexer": "ipython3",
   "version": "3.13.5"
  }
 },
 "nbformat": 4,
 "nbformat_minor": 5
}
