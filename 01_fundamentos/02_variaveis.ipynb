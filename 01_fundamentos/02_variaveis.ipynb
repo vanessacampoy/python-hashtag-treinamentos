{
 "cells": [
  {
   "cell_type": "code",
   "execution_count": 1,
   "id": "bf8ef787-af0f-4748-8a23-81c7dae8eb94",
   "metadata": {},
   "outputs": [
    {
     "name": "stdout",
     "output_type": "stream",
     "text": [
      "1500\n"
     ]
    }
   ],
   "source": [
    "qtde_vendas = 1500\n",
    "print (qtde_vendas)"
   ]
  },
  {
   "cell_type": "code",
   "execution_count": 4,
   "id": "eebd830b-dd19-4296-acf1-5a2e5ff9486b",
   "metadata": {},
   "outputs": [
    {
     "name": "stdin",
     "output_type": "stream",
     "text": [
      "Digite seu nome: Vanessa\n",
      "Digite seu sobrenome: Campoy\n"
     ]
    }
   ],
   "source": [
    "nome = input ('Digite seu nome:')\n",
    "sobrenome = input ('Digite seu sobrenome:')"
   ]
  },
  {
   "cell_type": "code",
   "execution_count": 5,
   "id": "3f6e3aa3-b25c-486b-8060-31c575e1a680",
   "metadata": {},
   "outputs": [
    {
     "name": "stdout",
     "output_type": "stream",
     "text": [
      "Vanessa Campoy\n"
     ]
    }
   ],
   "source": [
    "print (nome + ' ' + sobrenome)"
   ]
  },
  {
   "cell_type": "code",
   "execution_count": null,
   "id": "cda0b7a0-f3da-46b4-8afc-72a9bd5e1bff",
   "metadata": {},
   "outputs": [],
   "source": []
  }
 ],
 "metadata": {
  "kernelspec": {
   "display_name": "Python 3 (ipykernel)",
   "language": "python",
   "name": "python3"
  },
  "language_info": {
   "codemirror_mode": {
    "name": "ipython",
    "version": 3
   },
   "file_extension": ".py",
   "mimetype": "text/x-python",
   "name": "python",
   "nbconvert_exporter": "python",
   "pygments_lexer": "ipython3",
   "version": "3.13.5"
  }
 },
 "nbformat": 4,
 "nbformat_minor": 5
}
