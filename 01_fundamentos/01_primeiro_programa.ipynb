{
 "cells": [
  {
   "cell_type": "markdown",
   "id": "869280bd-09e4-4def-bd5e-0298e855a9a8",
   "metadata": {},
   "source": [
    "Começando\n"
   ]
  },
  {
   "cell_type": "code",
   "execution_count": 2,
   "id": "82c438e1-f615-499a-9907-a825cb34677a",
   "metadata": {},
   "outputs": [
    {
     "name": "stdout",
     "output_type": "stream",
     "text": [
      "Olá Mundo!\n"
     ]
    }
   ],
   "source": [
    "print(\"Olá Mundo!\")"
   ]
  },
  {
   "cell_type": "code",
   "execution_count": 3,
   "id": "8780c74b-0ef5-494f-86a9-a750761c65e9",
   "metadata": {},
   "outputs": [
    {
     "name": "stdout",
     "output_type": "stream",
     "text": [
      "54\n"
     ]
    }
   ],
   "source": [
    "print(9 * 6)"
   ]
  },
  {
   "cell_type": "code",
   "execution_count": 4,
   "id": "76a072f0-5ec6-4567-ba02-ca4e62b5ebe2",
   "metadata": {},
   "outputs": [
    {
     "name": "stdout",
     "output_type": "stream",
     "text": [
      "1\n"
     ]
    }
   ],
   "source": [
    "print(33 % 4)"
   ]
  },
  {
   "cell_type": "code",
   "execution_count": 5,
   "id": "aaee8100-e049-4699-89ca-3836abdae114",
   "metadata": {},
   "outputs": [
    {
     "name": "stdout",
     "output_type": "stream",
     "text": [
      "Meu nome é: Vanessa\n"
     ]
    }
   ],
   "source": [
    "print(\"Meu nome é: \" + \"Vanessa\")\n"
   ]
  },
  {
   "cell_type": "code",
   "execution_count": 9,
   "id": "80e392e9-7458-40cf-add9-78098800b1a3",
   "metadata": {},
   "outputs": [
    {
     "name": "stdout",
     "output_type": "stream",
     "text": [
      "True\n"
     ]
    }
   ],
   "source": [
    "print('Vanessa' in 'Vanessa Campoy')"
   ]
  },
  {
   "cell_type": "code",
   "execution_count": 8,
   "id": "461a15c0-204d-4f4a-b595-de4e27539c40",
   "metadata": {},
   "outputs": [
    {
     "name": "stdout",
     "output_type": "stream",
     "text": [
      "True\n"
     ]
    }
   ],
   "source": [
    "print('m' in 'melancia')"
   ]
  }
 ],
 "metadata": {
  "kernelspec": {
   "display_name": "Python 3 (ipykernel)",
   "language": "python",
   "name": "python3"
  },
  "language_info": {
   "codemirror_mode": {
    "name": "ipython",
    "version": 3
   },
   "file_extension": ".py",
   "mimetype": "text/x-python",
   "name": "python",
   "nbconvert_exporter": "python",
   "pygments_lexer": "ipython3",
   "version": "3.13.5"
  }
 },
 "nbformat": 4,
 "nbformat_minor": 5
}
